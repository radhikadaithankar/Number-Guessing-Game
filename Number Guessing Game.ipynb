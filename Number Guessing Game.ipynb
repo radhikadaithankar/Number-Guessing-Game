{
 "cells": [
  {
   "cell_type": "code",
   "execution_count": 2,
   "id": "8da1e86f",
   "metadata": {},
   "outputs": [
    {
     "name": "stdout",
     "output_type": "stream",
     "text": [
      "Enter Lower bound:- 5\n",
      "Enter Upper bound:- 9\n",
      "\n",
      "\tYou've only  2  chances to guess the integer!\n",
      "\n",
      "Guess a number:- 2\n",
      "You guessed too small!\n",
      "Guess a number:- 6\n",
      "You guessed too small!\n",
      "Guess a number:- 8\n",
      "You guessed too high\n",
      "\n",
      "The number is 7\n",
      "\tBetter Luck Next Time\n"
     ]
    }
   ],
   "source": [
    "import random\n",
    "import math\n",
    "\n",
    "lower = int(input(\"Enter Lower bound:- \"))\n",
    "upper = int(input(\"Enter Upper bound:- \"))\n",
    "x = random.randint(lower, upper)\n",
    "print(\"\\n\\tYou've only \",\n",
    "      round(math.log(upper - lower + 1, 2)),\n",
    "      \" chances to guess the integer!\\n\")\n",
    "\n",
    "count = 0 \n",
    "while count < math.log(upper - lower + 1,2):\n",
    "  count += 1\n",
    "\n",
    "  guess = int(input(\"Guess a number:- \"))\n",
    "\n",
    "  if x == guess:\n",
    "    print(\"Congratulations you did it in \",\n",
    "          count, \"try\")\n",
    "    break\n",
    "  elif x > guess:\n",
    "    print(\"You guessed too small!\")\n",
    "  elif x < guess:\n",
    "    print(\"You guessed too high\")\n",
    "    \n",
    "if count >= math.log(upper - lower + 1,2):\n",
    "  print(\"\\nThe number is %d\" % x)\n",
    "  print(\"\\tBetter Luck Next Time\")"
   ]
  },
  {
   "cell_type": "markdown",
   "id": "d899341a",
   "metadata": {},
   "source": []
  }
 ],
 "metadata": {
  "kernelspec": {
   "display_name": "Python 3 (ipykernel)",
   "language": "python",
   "name": "python3"
  },
  "language_info": {
   "codemirror_mode": {
    "name": "ipython",
    "version": 3
   },
   "file_extension": ".py",
   "mimetype": "text/x-python",
   "name": "python",
   "nbconvert_exporter": "python",
   "pygments_lexer": "ipython3",
   "version": "3.11.4"
  }
 },
 "nbformat": 4,
 "nbformat_minor": 5
}
